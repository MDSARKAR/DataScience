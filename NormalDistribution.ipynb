{
 "cells": [
  {
   "cell_type": "code",
   "execution_count": 1,
   "id": "64e44f0f-f52a-4e64-8a25-6a075c799b0d",
   "metadata": {},
   "outputs": [],
   "source": [
    "import math"
   ]
  },
  {
   "cell_type": "code",
   "execution_count": 2,
   "id": "f2144e95-705e-4d84-9aea-af4ada82bda3",
   "metadata": {},
   "outputs": [],
   "source": [
    "def summation_cummulative(mean, std, value):\n",
    "    return 0.5 * (1 + math.erf(value - mean) / (std * (2** 0.5)))"
   ]
  },
  {
   "cell_type": "code",
   "execution_count": 3,
   "id": "b885291d-de04-4737-93c0-25f0e32505ff",
   "metadata": {},
   "outputs": [
    {
     "name": "stdin",
     "output_type": "stream",
     "text": [
      " 1 5 6 9 8 77 55 12 45\n",
      " 5\n",
      " 1 2 3\n"
     ]
    }
   ],
   "source": [
    "initial_values = list(map(float, input().split()))\n",
    "mean = initial_values[0]\n",
    "standard_deviation = initial_values[1]\n",
    "minimum_number_range = float(input())\n",
    "difference_between_number_range = list(map(float, input().split()))"
   ]
  },
  {
   "cell_type": "code",
   "execution_count": 4,
   "id": "050e58d1-0c1c-4395-944f-d735a70fb9db",
   "metadata": {},
   "outputs": [
    {
     "name": "stdout",
     "output_type": "stream",
     "text": [
      "Initial values is :  [1.0, 5.0, 6.0, 9.0, 8.0, 77.0, 55.0, 12.0, 45.0]\n",
      "Mean value is ,  1.0\n",
      "Standard Deviation is :  5.0\n"
     ]
    }
   ],
   "source": [
    "print(\"Initial values is : \", initial_values)\n",
    "print(\"Mean value is , \", mean)\n",
    "print(\"Standard Deviation is : \",standard_deviation)"
   ]
  },
  {
   "cell_type": "code",
   "execution_count": 5,
   "id": "1dfd8dd8-97b9-4595-8720-0e1ca1d0c546",
   "metadata": {},
   "outputs": [
    {
     "name": "stdout",
     "output_type": "stream",
     "text": [
      "0.571\n"
     ]
    }
   ],
   "source": [
    "print(round(summation_cummulative(mean, standard_deviation,minimum_number_range), 3))"
   ]
  },
  {
   "cell_type": "code",
   "execution_count": 8,
   "id": "6cb901cb-7711-4313-bf8b-e0ec418da40b",
   "metadata": {},
   "outputs": [
    {
     "name": "stdout",
     "output_type": "stream",
     "text": [
      "0.06\n"
     ]
    }
   ],
   "source": [
    "print(round(summation_cummulative(mean, standard_deviation,difference_between_number_range[1]) - \n",
    "            summation_cummulative(mean,standard_deviation,difference_between_number_range[0]), 3))"
   ]
  },
  {
   "cell_type": "code",
   "execution_count": null,
   "id": "43554524-72cf-4f17-a78b-c389a5d98938",
   "metadata": {},
   "outputs": [],
   "source": []
  }
 ],
 "metadata": {
  "kernelspec": {
   "display_name": "Python 3 (ipykernel)",
   "language": "python",
   "name": "python3"
  },
  "language_info": {
   "codemirror_mode": {
    "name": "ipython",
    "version": 3
   },
   "file_extension": ".py",
   "mimetype": "text/x-python",
   "name": "python",
   "nbconvert_exporter": "python",
   "pygments_lexer": "ipython3",
   "version": "3.7.13"
  }
 },
 "nbformat": 4,
 "nbformat_minor": 5
}
